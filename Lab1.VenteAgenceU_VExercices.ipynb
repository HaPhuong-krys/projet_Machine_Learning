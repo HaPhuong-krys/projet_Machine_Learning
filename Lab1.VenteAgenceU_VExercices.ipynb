{
 "cells": [
  {
   "cell_type": "markdown",
   "id": "54410eaf",
   "metadata": {},
   "source": [
    "# Exercice Nettoyage des données\n",
    "\n",
    "Exercices sur la lecture d'un fichier CSV et sur le nettoyage des données. \n",
    "\n",
    "D'abord la lecture d'un fichier CSV avec ***read_csv***. \n"
   ]
  },
  {
   "cell_type": "code",
   "execution_count": null,
   "id": "f59e3c6f",
   "metadata": {},
   "outputs": [],
   "source": [
    "import pandas as pnd\n",
    "\n",
    "ventes = pnd.read_csv('C:/Users/33777/Desktop/MLM2/S2I/Datasets/VentesAgenceU.csv', delimiter=';',header=[0],index_col=[0])\n",
    "\n",
    "ventes.info()"
   ]
  },
  {
   "cell_type": "markdown",
   "id": "62738a69",
   "metadata": {},
   "source": [
    "\n",
    "On affiche le début des données (10 premières lignes) avec ***head*** et les derniers données (10 dernières lignes) avec ***tail***.\n"
   ]
  },
  {
   "cell_type": "code",
   "execution_count": null,
   "id": "7198c91c",
   "metadata": {},
   "outputs": [],
   "source": [
    "ventes.head()"
   ]
  },
  {
   "cell_type": "code",
   "execution_count": null,
   "id": "9c2e1793",
   "metadata": {},
   "outputs": [],
   "source": [
    "ventes.tail(10)"
   ]
  },
  {
   "cell_type": "code",
   "execution_count": null,
   "id": "92ccf1a1",
   "metadata": {},
   "outputs": [],
   "source": [
    "ventes.info()"
   ]
  },
  {
   "cell_type": "code",
   "execution_count": null,
   "id": "7ff689da",
   "metadata": {},
   "outputs": [],
   "source": [
    "ventes.describe()"
   ]
  },
  {
   "cell_type": "code",
   "execution_count": null,
   "id": "1b73b4de",
   "metadata": {},
   "outputs": [],
   "source": [
    "ventes.sample(10)"
   ]
  },
  {
   "cell_type": "code",
   "execution_count": null,
   "id": "a49a7cbe",
   "metadata": {},
   "outputs": [],
   "source": [
    "ventes.info()"
   ]
  },
  {
   "cell_type": "markdown",
   "id": "e81e0730",
   "metadata": {},
   "source": [
    "\n",
    "On va commencer par supprimer les lignes et colonnes vides (**NA**) avec ***dropna***.\n"
   ]
  },
  {
   "cell_type": "code",
   "execution_count": null,
   "id": "6632c129",
   "metadata": {},
   "outputs": [],
   "source": [
    "ventes.dropna(axis='columns', how='all', inplace=True)"
   ]
  },
  {
   "cell_type": "code",
   "execution_count": null,
   "id": "b4da4441",
   "metadata": {},
   "outputs": [],
   "source": [
    "ventes.info()"
   ]
  },
  {
   "cell_type": "code",
   "execution_count": null,
   "id": "5e674977",
   "metadata": {},
   "outputs": [],
   "source": [
    "ventes.dropna(axis='index', how='all', inplace=True)"
   ]
  },
  {
   "cell_type": "code",
   "execution_count": null,
   "id": "cfad5b6b",
   "metadata": {},
   "outputs": [],
   "source": [
    "ventes.info()"
   ]
  },
  {
   "cell_type": "code",
   "execution_count": null,
   "id": "2f146d01",
   "metadata": {},
   "outputs": [],
   "source": [
    "ventes.tail(10)"
   ]
  },
  {
   "cell_type": "markdown",
   "id": "1e4105a5",
   "metadata": {},
   "source": [
    "Avec l'opération **info**, on peut voir que les dates n'ont pas été correctement reconnues."
   ]
  },
  {
   "cell_type": "code",
   "execution_count": null,
   "id": "1eec67ec",
   "metadata": {},
   "outputs": [],
   "source": [
    "ventes.info()"
   ]
  },
  {
   "cell_type": "code",
   "execution_count": null,
   "id": "888632ae",
   "metadata": {},
   "outputs": [],
   "source": [
    "ventes.head()"
   ]
  },
  {
   "cell_type": "code",
   "execution_count": null,
   "id": "411b7158",
   "metadata": {},
   "outputs": [],
   "source": [
    "ventes['DATE FACTURE'] = pnd.to_datetime(ventes['DATE FACTURE'], dayfirst=True)\n",
    "ventes.info()"
   ]
  },
  {
   "cell_type": "code",
   "execution_count": null,
   "id": "7c16ca77",
   "metadata": {},
   "outputs": [],
   "source": [
    "ventes.tail(10)"
   ]
  },
  {
   "cell_type": "markdown",
   "id": "167e45bb",
   "metadata": {},
   "source": [
    "Ajuster les noms des colonnes\n",
    "\n",
    "Parfois les colonnes dans nos données ont de noms qui soient représentatifs (ou faciles à comprendre). Il arrive même que certains noms de colonnes comportent des \"*erreurs*\" (des caractères spéciaux, des espaces, etc.). \n",
    "\n",
    "On peut modifier les noms des colonnes d'un **DataFrame** facilement. On va supprimer la colonne n° 5 (\"*Unnamed: 6*\") et les lignes avec des NaN, afin de ne garder que les données \"utiles\". "
   ]
  },
  {
   "cell_type": "code",
   "execution_count": null,
   "id": "1e7684f4",
   "metadata": {},
   "outputs": [],
   "source": [
    "dfFactures.drop(columns={dfFactures.columns[5]}, inplace=True)\n",
    "dfFactures.dropna(axis='index', inplace=True)\n",
    "dfFactures.info()"
   ]
  },
  {
   "cell_type": "markdown",
   "id": "56a30a14",
   "metadata": {},
   "source": [
    "On observe que nom de la ***\" MONTANT \"*** contient des espaces, ce qui n'est pas très pratique. \n",
    "\n",
    "Afin de bien voir les possibles espaces dans le nom des colonnes, on va utiliser une petite boucle, qui va afficher les noms de chaque colonne précédée par un ##. "
   ]
  },
  {
   "cell_type": "code",
   "execution_count": null,
   "id": "95e10375",
   "metadata": {},
   "outputs": [],
   "source": [
    "dfFactures.sample(10)"
   ]
  },
  {
   "cell_type": "code",
   "execution_count": null,
   "id": "73477f5c",
   "metadata": {},
   "outputs": [],
   "source": [
    "for col in dfFactures.columns :\n",
    "    print('##{}##'.format(col))"
   ]
  },
  {
   "cell_type": "markdown",
   "id": "a38bdb6c",
   "metadata": {},
   "source": [
    "On voit que le nom de la colonne \"*MONTANT*\" possède des espaces avant et après, ce qui peut être très gênant au moment qu'on voudra manipuler cette colonne. \n",
    "\n",
    "On va donc modifier son nom avec l'opération ***rename***."
   ]
  },
  {
   "cell_type": "code",
   "execution_count": null,
   "id": "ff6666fa",
   "metadata": {},
   "outputs": [],
   "source": [
    "# 1ere possibilité, en se servant de l'attribut columns \n",
    "# sans le inplace pour le pas modifier le DataFrame, et donc pouvoir l'application des deux options :-)\n",
    "dfFactures.rename (columns= { dfFactures.columns[4] : 'montant' } )"
   ]
  },
  {
   "cell_type": "code",
   "execution_count": null,
   "id": "2c690aad",
   "metadata": {},
   "outputs": [],
   "source": [
    "# maintenant avec le inplace pour modifier le DataFrame\n",
    "dfFactures.rename(columns={' MONTANT ':'MONTANT'}, inplace=True)\n",
    "\n",
    "for col in dfFactures.columns :\n",
    "    print('##{}##'.format(col))\n",
    "    \n",
    "dfFactures.info()"
   ]
  },
  {
   "cell_type": "markdown",
   "id": "7fe796f5",
   "metadata": {},
   "source": [
    "#### Nettoyage : Eliminer les caractères indésirables\n",
    "\n",
    "Parfois il faut supprimer des données des caractères indésirables (un \"$\" ou un \"€\" d'un prix, par exemple), ou les remplacer par d'autres (parfois il faut remplacer une \",\" d'un prix en format FR par un \".\" d'un format US compris comme un numéro par Python). \n",
    "\n",
    "Cette étape doit venir avant qu'on puisse convertir les colonnes contenant ces données dans les bons formats (numeric, date). \n",
    "\n",
    "On peut remplacer un caractère par un autre avec ***str.replace*** ou en utilisant l'opération ***apply***. Si on veut tout simplement supprimer le caractère, il suffit de le remplacer par ***''*** (une chaine \"*vide*\"). \n",
    "\n",
    "On va illustrer cela avec la colonne \"***MONTANT***\" du DataFrame \"***dfFractures***\". \n",
    "En faisant un ***sample***, on peut observer l'usage de la \",\" comme séparateur pour les cases décimales, et plusieurs valeurs avec un \"_\". Ceci explique pourquoi cette colonne apparaît comme ***object*** dans la sortie de l'opération ***info***. "
   ]
  },
  {
   "cell_type": "code",
   "execution_count": null,
   "id": "312fbd51",
   "metadata": {},
   "outputs": [],
   "source": [
    "dfFactures.sample(5)"
   ]
  },
  {
   "cell_type": "markdown",
   "id": "a0000b98",
   "metadata": {},
   "source": [
    "On va donc :\n",
    "- remplacer le '_' par '' (chaîne vide)\n",
    "- remplacer le ',' par un '.' "
   ]
  },
  {
   "cell_type": "code",
   "execution_count": null,
   "id": "13549307",
   "metadata": {},
   "outputs": [],
   "source": [
    "dfFactures['MONTANT'] = dfFactures['MONTANT'].str.replace('_','')\n",
    "dfFactures['MONTANT'].sample(5)"
   ]
  },
  {
   "cell_type": "markdown",
   "id": "fca4413e",
   "metadata": {},
   "source": [
    "Dès que les données ont été nettoyées, on peut le convertir en type \"numérique\" avec to_numeric.\n"
   ]
  },
  {
   "cell_type": "code",
   "execution_count": null,
   "id": "1b655262",
   "metadata": {},
   "outputs": [],
   "source": [
    "dfFactures['MONTANT'] = pnd.to_numeric(dfFactures['MONTANT'],errors='coerce')\n",
    "dfFactures.info()"
   ]
  },
  {
   "cell_type": "markdown",
   "id": "271541e3",
   "metadata": {},
   "source": [
    "## Dates : obtenir plus d'informations sur les dates. \n",
    "\n",
    "A partir du moment qu'on convertit une colonne en date (***to_datetime***), on peut obtenir plusieurs informations à partir de ses valeurs. "
   ]
  },
  {
   "cell_type": "code",
   "execution_count": null,
   "id": "7319ba1c",
   "metadata": {},
   "outputs": [],
   "source": [
    "dfFactures.info()"
   ]
  },
  {
   "cell_type": "markdown",
   "id": "bf5e4799",
   "metadata": {},
   "source": [
    "La colonne \"*DATE FACTURE*\" contient des dates. Il faut donc la convertir avec ***to_datetime***.  "
   ]
  },
  {
   "cell_type": "code",
   "execution_count": null,
   "id": "8291e95b",
   "metadata": {},
   "outputs": [],
   "source": [
    "dfFactures['DATE FACTURE'] = pnd.to_datetime(dfFactures['DATE FACTURE'])\n",
    "dfFactures['DATE FACTURE'].sample(5)"
   ]
  },
  {
   "cell_type": "markdown",
   "id": "b49f249b",
   "metadata": {},
   "source": [
    "A partir de ce moment, on va pouvoir en extraire des nombreuses informations utiles :\n",
    "- jour \n",
    "- mois \n",
    "- année\n",
    "- jour de la semaine\n",
    "- jour de la semaine en texte\n",
    "- mois en texte"
   ]
  },
  {
   "cell_type": "code",
   "execution_count": null,
   "id": "4b51c1e8",
   "metadata": {},
   "outputs": [],
   "source": [
    "dfFactures['JOUR FACTURE'] = dfFactures['DATE FACTURE'].dt.day\n",
    "dfFactures['MOIS FACTURE'] = dfFactures['DATE FACTURE'].dt.month\n",
    "dfFactures['ANNEE FACTURE'] = dfFactures['DATE FACTURE'].dt.year\n",
    "dfFactures['JOUR SEMAINE'] = dfFactures['DATE FACTURE'].dt.weekday\n",
    "dfFactures['NOM JOUR'] = dfFactures['DATE FACTURE'].dt.day_name()\n",
    "dfFactures['NOM MOIS'] = dfFactures['DATE FACTURE'].dt.month_name()\n",
    "\n",
    "dfFactures['SEMAINE ANNEE'] = dfFactures['DATE FACTURE'].dt.isocalendar().week\n",
    "\n",
    "dfFactures.sample(5)"
   ]
  },
  {
   "cell_type": "markdown",
   "id": "0d814f74",
   "metadata": {},
   "source": [
    "Si on essaie de récupérer l'heure dans les données de la colonne \"*DATE_FACTURE*\", on ne pourra pas, car cette information est absente des données de base. "
   ]
  },
  {
   "cell_type": "code",
   "execution_count": null,
   "id": "5f71ce40",
   "metadata": {},
   "outputs": [],
   "source": [
    "dfFactures['DATE FACTURE'].dt.time"
   ]
  }
 ],
 "metadata": {
  "interpreter": {
   "hash": "aee8b7b246df8f9039afb4144a1f6fd8d2ca17a180786b69acc140d282b71a49"
  },
  "kernelspec": {
   "display_name": "Python 3",
   "language": "python",
   "name": "python3"
  },
  "language_info": {
   "codemirror_mode": {
    "name": "ipython",
    "version": 3
   },
   "file_extension": ".py",
   "mimetype": "text/x-python",
   "name": "python",
   "nbconvert_exporter": "python",
   "pygments_lexer": "ipython3",
   "version": "3.7.3"
  }
 },
 "nbformat": 4,
 "nbformat_minor": 5
}
